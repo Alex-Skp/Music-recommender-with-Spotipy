{
 "cells": [
  {
   "cell_type": "markdown",
   "id": "material-favor",
   "metadata": {},
   "source": [
    "![image](../images/gnod_2nd_iteration.jpg)"
   ]
  },
  {
   "cell_type": "code",
   "execution_count": 1,
   "id": "electric-stations",
   "metadata": {},
   "outputs": [],
   "source": [
    "import spotipy\n",
    "from spotipy.oauth2 import SpotifyClientCredentials\n",
    "from getpass import getpass\n",
    "from tqdm.notebook import tqdm\n",
    "import pandas as pd\n",
    "import joblib\n",
    "from time import sleep\n",
    "from IPython.core.display import display, HTML\n",
    "import warnings\n",
    "warnings.filterwarnings('ignore')"
   ]
  },
  {
   "cell_type": "code",
   "execution_count": 2,
   "id": "documentary-oregon",
   "metadata": {},
   "outputs": [],
   "source": [
    "def spotipy_connection():\n",
    "    print(\"Insert Spotipy Client ID:\")\n",
    "    c_id = str(getpass())\n",
    "    print(\"Insert Spotipy Client Secret:\")\n",
    "    c_s = str(getpass())\n",
    "    \n",
    "    \n",
    "    return c_id,c_s"
   ]
  },
  {
   "cell_type": "code",
   "execution_count": 3,
   "id": "geographic-leader",
   "metadata": {},
   "outputs": [
    {
     "name": "stdout",
     "output_type": "stream",
     "text": [
      "Insert Spotipy Client ID:\n",
      "········\n",
      "Insert Spotipy Client Secret:\n",
      "········\n"
     ]
    }
   ],
   "source": [
    "c_id,c_s = spotipy_connection()"
   ]
  },
  {
   "cell_type": "code",
   "execution_count": 4,
   "id": "consecutive-shade",
   "metadata": {},
   "outputs": [],
   "source": [
    "sp = spotipy.Spotify(auth_manager=SpotifyClientCredentials(client_id=c_id,\n",
    "                                                          client_secret=c_s))"
   ]
  },
  {
   "cell_type": "code",
   "execution_count": 5,
   "id": "national-resident",
   "metadata": {},
   "outputs": [],
   "source": [
    "def first_input ():\n",
    "    \"\"\"\n",
    "    inputs a string of at least 2 characters, returns that string stripped from whitespace\n",
    "    \"\"\"\n",
    "    inp = str(input(\"Insert the name of a song: \")).strip()\n",
    "    while len(inp)<2:\n",
    "        inp = str(input(\"please write at least 2 characters as a name: \")).strip()\n",
    "    return inp"
   ]
  },
  {
   "cell_type": "code",
   "execution_count": 6,
   "id": "effective-universal",
   "metadata": {},
   "outputs": [],
   "source": [
    "def matching_songs(inp,song,artists,songid):\n",
    "    \"\"\"\n",
    "    creates a dframe of songs where inp matches a song name\n",
    "    will return a list with song, artist and an index for these songs \n",
    "    \"\"\"\n",
    "    \n",
    "    # We create a list of songs where the inputted string matches\n",
    "    matches = song.str.lower().str.find(inp.lower())\n",
    "    songs = [(song[i],artists[i],songid[i]) for i,x in enumerate(matches) if x>=0]\n",
    "    \n",
    "    # If there is no matches whatsoever we return false, if any match, return songs list \n",
    "    if len(songs)==0:\n",
    "        return None\n",
    "    else:\n",
    "        return songs\n",
    "    \n",
    "\n"
   ]
  },
  {
   "cell_type": "code",
   "execution_count": 20,
   "id": "express-uruguay",
   "metadata": {},
   "outputs": [],
   "source": [
    "def select_song(songs):\n",
    "    \"\"\"\n",
    "    will return the index of the original chart in where the song is located, false if no matches. \n",
    "    \"\"\"\n",
    "    \n",
    "    if len(songs)==1:    \n",
    "        print(\"\\nDid you mean this song?\")\n",
    "    else:\n",
    "        print(\"\\nDid you mean any of these?\")\n",
    "        \n",
    "    # displaying the options and ask for selection\n",
    "    for i,song in enumerate(songs):\n",
    "        print(\"{}-> {} | {}\".format(str(i),song[0],song[1]))   \n",
    "    \n",
    "    sel = input(\"If yes, choose song number. if not, write N: \").strip()\n",
    "    \n",
    "    #we use try/except to raise errors if the index is out of range, or if the input can't be converted to an int \n",
    "    while sel.lower()!=\"n\":\n",
    "        try:\n",
    "            chose = songs[int(sel)]\n",
    "            sleep(.5)\n",
    "            print(\"You chose:\\n{} | {} \".format(chose[0],chose[1]))\n",
    "            if not isinstance(chose[2],int):\n",
    "                display(HTML('<iframe src=\"https://open.spotify.com/embed/track/{}\" width=\"320\" height=\"80\" frameborder=\"0\" allowtransparency=\"true\" allow=\"encrypted-media\"></iframe>'.format(chose[2])))\n",
    "            return chose[2]\n",
    "        except ValueError:\n",
    "            sel = input(\"Sorry, I didn't understand! Choose number if yes, N if not.\").strip()\n",
    "        except IndexError:\n",
    "            sel = input(\"Please choose one of the songs or write N if not: \").strip()\n",
    "    \n",
    "    return False "
   ]
  },
  {
   "cell_type": "code",
   "execution_count": 8,
   "id": "preliminary-sustainability",
   "metadata": {},
   "outputs": [],
   "source": [
    "def hot_songs(inp):\n",
    "    \n",
    "    hot_100 = pd.read_csv(\"../data/top-100-songs-chart.csv\", index_col=0)\n",
    "    \n",
    "    matching = matching_songs(inp,hot_100['song'],hot_100['artist'],hot_100['rank'])\n",
    "    \n",
    "    if matching == None:\n",
    "        return inp\n",
    "    else:\n",
    "        song_ind = select_song(matching)\n",
    "    \n",
    "    if song_ind == False:\n",
    "        return inp\n",
    "    else:\n",
    "        out = hot_100[hot_100['rank']!=song_ind][['song','artist','rank']]\n",
    "        out.rename(columns = {'song': 'name', 'artist': 'artists','rank':'id'}, inplace = True)\n",
    "        return  out.sample(10)\n",
    "        "
   ]
  },
  {
   "cell_type": "code",
   "execution_count": 9,
   "id": "decreased-latex",
   "metadata": {},
   "outputs": [],
   "source": [
    "def spotify_query(inp,offs = 0):\n",
    "    #queries 10 song names to spotify api\n",
    "    tracks_query = sp.search(str(inp), limit=10, type='track', offset=offs)['tracks']['items']\n",
    "    songs = []\n",
    "    for track in tracks_query:\n",
    "        sp_song = track['name']\n",
    "        sp_artists = \", \".join([artist['name'] for artist in track['artists']])\n",
    "        sp_id = track['id']\n",
    "        songs.append((sp_song,sp_artists,sp_id))\n",
    "    return songs\n",
    "    \n",
    "    "
   ]
  },
  {
   "cell_type": "code",
   "execution_count": 10,
   "id": "retained-search",
   "metadata": {},
   "outputs": [],
   "source": [
    "def spotify_inp(inp):\n",
    "    #Tis can be improved to roll in various pages of the query, or by asking a new input\n",
    "    sp_songs = spotify_query(inp)\n",
    "    \n",
    "    selection = select_song(sp_songs)\n",
    "\n",
    "    return selection\n",
    "   "
   ]
  },
  {
   "cell_type": "code",
   "execution_count": 11,
   "id": "perfect-eating",
   "metadata": {},
   "outputs": [],
   "source": [
    "def spotify_recommender(song_id):\n",
    "    #loading the model and the cluster-song list\n",
    "    scaler = joblib.load('../data/model/std_scaler.bin')\n",
    "    model = joblib.load('../data/model/kmeans_model.sav')\n",
    "    cluster_id = pd.read_csv('../data/model/cluster-id-dataframe.csv',index_col = 0)\n",
    "    \n",
    "    #retrieve the features from api\n",
    "    song_feats = sp.audio_features(song_id)[0]\n",
    "    features = ['danceability', 'energy', 'key', 'loudness', 'speechiness',\n",
    "       'acousticness', 'instrumentalness', 'liveness', 'valence'] \n",
    "    result = pd.DataFrame({key:song_feats[key] for key in features},index = [0])\n",
    "    \n",
    "    #we scale it with our scaler \n",
    "    scaled_feat = scaler.transform(result)\n",
    "    \n",
    "    #we predict to which cluster it belongs\n",
    "    clust_pred = model.predict(scaled_feat)[0]\n",
    "    \n",
    "    #and create a 10 song sample id list from songs in the same category\n",
    "    songs_category = cluster_id[cluster_id['cluster']==clust_pred]\n",
    "    recomm = songs_category.sample(10)[['name','artists','id']]\n",
    "    \n",
    "    return recomm"
   ]
  },
  {
   "cell_type": "code",
   "execution_count": 12,
   "id": "closing-tiger",
   "metadata": {},
   "outputs": [],
   "source": [
    "def print_recommendation(recomm):\n",
    "    \n",
    "    for i,song_id in enumerate(recomm['id']):\n",
    "        song = recomm['name'].iloc[i]\n",
    "        artist = recomm['artists'].iloc[i]\n",
    "        sleep(1)\n",
    "        print(\"\\nYour Recommendation:\\n{} | {} \".format(song,artist))\n",
    "        if not isinstance(song_id,int):\n",
    "            display(HTML('<iframe src=\"https://open.spotify.com/embed/track/{}\" width=\"320\" height=\"80\" frameborder=\"0\" allowtransparency=\"true\" allow=\"encrypted-media\"></iframe>'.format(song_id)))\n",
    "        \n",
    "        sleep(2)\n",
    "        if i != len(recomm['id'])-1:\n",
    "            a = input(\"Would you like one more suggestion? Y/N: \")\n",
    "            if a.lower() == \"n\":\n",
    "                print(\"\\n WELL, YOU'RE WELCOME :-|\")\n",
    "                return False \n",
    "    return True\n"
   ]
  },
  {
   "cell_type": "code",
   "execution_count": 15,
   "id": "primary-addition",
   "metadata": {},
   "outputs": [],
   "source": [
    "def final_song_recommender():\n",
    "    \n",
    "    # we take the first input \n",
    "    inp = first_input()\n",
    "    # check if a hot song\n",
    "    recomm = hot_songs(inp)\n",
    "    # if its not a hot song, itll return the string inputted, and will check on spotify \n",
    "    if isinstance(recomm,str):\n",
    "        # get the input, return the song ID\n",
    "        song_id = spotify_inp(inp)\n",
    "        # retrieve the features, fit the model, get a list of songs that match the cluster\n",
    "        in_cluster = spotify_recommender(song_id)\n",
    "        #we rename it so it's printed by the last function\n",
    "        recomm = in_cluster\n",
    "    #prints first element of the output, and keeps printing available results up to 10 \n",
    "    print_recommendation(recomm)\n",
    "    \n",
    "    \n",
    "    \n",
    "    "
   ]
  },
  {
   "cell_type": "code",
   "execution_count": null,
   "id": "molecular-edinburgh",
   "metadata": {},
   "outputs": [
    {
     "name": "stdout",
     "output_type": "stream",
     "text": [
      "Insert the name of a song: da\n",
      "\n",
      "Did you mean any of these?\n",
      "0-> Time Today | Moneybagg Yo\n",
      "1-> Dakiti | Bad Bunny & Jhay Cortez\n",
      "2-> Good Days | SZA\n",
      "3-> Damage | H.E.R.\n",
      "4-> 4 Da Gang | 42 Dugg & Roddy Ricch\n",
      "5-> Clear Da Air | Moneybagg Yo\n",
      "If yes, choose song number. if not, write N: 3\n",
      "You chose:\n",
      "Damage | H.E.R. \n"
     ]
    },
    {
     "data": {
      "text/html": [
       "<iframe src=\"https://open.spotify.com/embed/track/62\" width=\"320\" height=\"80\" frameborder=\"0\" allowtransparency=\"true\" allow=\"encrypted-media\"></iframe>"
      ],
      "text/plain": [
       "<IPython.core.display.HTML object>"
      ]
     },
     "metadata": {},
     "output_type": "display_data"
    },
    {
     "name": "stdout",
     "output_type": "stream",
     "text": [
      "\n",
      "Your Recommendation:\n",
      "My Head And My Heart | Ava Max \n"
     ]
    }
   ],
   "source": [
    "final_song_recommender()"
   ]
  },
  {
   "cell_type": "code",
   "execution_count": null,
   "id": "exciting-pepper",
   "metadata": {},
   "outputs": [],
   "source": []
  },
  {
   "cell_type": "code",
   "execution_count": null,
   "id": "coupled-farmer",
   "metadata": {},
   "outputs": [],
   "source": []
  },
  {
   "cell_type": "code",
   "execution_count": null,
   "id": "southeast-barrel",
   "metadata": {},
   "outputs": [],
   "source": []
  },
  {
   "cell_type": "code",
   "execution_count": null,
   "id": "adaptive-dealing",
   "metadata": {},
   "outputs": [],
   "source": []
  },
  {
   "cell_type": "code",
   "execution_count": null,
   "id": "conservative-banana",
   "metadata": {},
   "outputs": [],
   "source": []
  },
  {
   "cell_type": "code",
   "execution_count": null,
   "id": "collaborative-moisture",
   "metadata": {},
   "outputs": [],
   "source": []
  }
 ],
 "metadata": {
  "kernelspec": {
   "display_name": "Python 3",
   "language": "python",
   "name": "python3"
  },
  "language_info": {
   "codemirror_mode": {
    "name": "ipython",
    "version": 3
   },
   "file_extension": ".py",
   "mimetype": "text/x-python",
   "name": "python",
   "nbconvert_exporter": "python",
   "pygments_lexer": "ipython3",
   "version": "3.9.2"
  }
 },
 "nbformat": 4,
 "nbformat_minor": 5
}
