{
 "cells": [
  {
   "cell_type": "markdown",
   "id": "stone-paint",
   "metadata": {},
   "source": [
    "![image](../images/gnod_1st_iteration.jpg)"
   ]
  },
  {
   "cell_type": "markdown",
   "id": "experimental-audience",
   "metadata": {},
   "source": [
    "# Architecture"
   ]
  },
  {
   "cell_type": "markdown",
   "id": "metropolitan-tongue",
   "metadata": {},
   "source": [
    "* User interaction together in the same notebook with database generation?\n",
    "    * database refreshing / scraping when? Probably not everytime a user is prompted to input a song\n",
    "* where do we store scraped songs? Preferably in `/data`"
   ]
  },
  {
   "cell_type": "markdown",
   "id": "satellite-passenger",
   "metadata": {},
   "source": [
    "# Logic"
   ]
  },
  {
   "cell_type": "markdown",
   "id": "committed-titanium",
   "metadata": {},
   "source": [
    "* recommendation? Maybe alway different songs from the database\n",
    "* song not in list\n",
    "* title appears mutiple times in database\n",
    "* Invalid inputs?\n",
    "    * Typos?\n",
    "    * What if user doesn't enter anything?\n"
   ]
  },
  {
   "cell_type": "markdown",
   "id": "tropical-license",
   "metadata": {},
   "source": [
    "# Testing"
   ]
  },
  {
   "cell_type": "markdown",
   "id": "thorough-native",
   "metadata": {},
   "source": [
    "* Does your program work if you test it with your peers?"
   ]
  },
  {
   "cell_type": "code",
   "execution_count": 1,
   "id": "finite-california",
   "metadata": {},
   "outputs": [],
   "source": [
    "import pandas as pd"
   ]
  },
  {
   "cell_type": "code",
   "execution_count": 2,
   "id": "abstract-vacation",
   "metadata": {},
   "outputs": [],
   "source": [
    "chart = pd.read_csv(\"../data/top-100-songs-chart.csv\", index_col = 0)\n"
   ]
  },
  {
   "cell_type": "code",
   "execution_count": 3,
   "id": "local-diary",
   "metadata": {},
   "outputs": [
    {
     "data": {
      "text/html": [
       "<div>\n",
       "<style scoped>\n",
       "    .dataframe tbody tr th:only-of-type {\n",
       "        vertical-align: middle;\n",
       "    }\n",
       "\n",
       "    .dataframe tbody tr th {\n",
       "        vertical-align: top;\n",
       "    }\n",
       "\n",
       "    .dataframe thead th {\n",
       "        text-align: right;\n",
       "    }\n",
       "</style>\n",
       "<table border=\"1\" class=\"dataframe\">\n",
       "  <thead>\n",
       "    <tr style=\"text-align: right;\">\n",
       "      <th></th>\n",
       "      <th>rank</th>\n",
       "      <th>song</th>\n",
       "      <th>artist</th>\n",
       "      <th>last_week_rank</th>\n",
       "      <th>peak_rank</th>\n",
       "      <th>weeks</th>\n",
       "    </tr>\n",
       "  </thead>\n",
       "  <tbody>\n",
       "    <tr>\n",
       "      <th>0</th>\n",
       "      <td>1</td>\n",
       "      <td>Save Your Tears</td>\n",
       "      <td>The Weeknd &amp; Ariana Grande</td>\n",
       "      <td>6</td>\n",
       "      <td>1</td>\n",
       "      <td>20</td>\n",
       "    </tr>\n",
       "    <tr>\n",
       "      <th>1</th>\n",
       "      <td>2</td>\n",
       "      <td>Leave The Door Open</td>\n",
       "      <td>Silk Sonic (Bruno Mars &amp; Anderson .Paak)</td>\n",
       "      <td>2</td>\n",
       "      <td>1</td>\n",
       "      <td>8</td>\n",
       "    </tr>\n",
       "    <tr>\n",
       "      <th>2</th>\n",
       "      <td>3</td>\n",
       "      <td>Peaches</td>\n",
       "      <td>Justin Bieber Featuring Daniel Caesar &amp; Giveon</td>\n",
       "      <td>3</td>\n",
       "      <td>1</td>\n",
       "      <td>6</td>\n",
       "    </tr>\n",
       "    <tr>\n",
       "      <th>3</th>\n",
       "      <td>4</td>\n",
       "      <td>Rapstar</td>\n",
       "      <td>Polo G</td>\n",
       "      <td>1</td>\n",
       "      <td>1</td>\n",
       "      <td>3</td>\n",
       "    </tr>\n",
       "    <tr>\n",
       "      <th>4</th>\n",
       "      <td>5</td>\n",
       "      <td>Levitating</td>\n",
       "      <td>Dua Lipa Featuring DaBaby</td>\n",
       "      <td>5</td>\n",
       "      <td>5</td>\n",
       "      <td>30</td>\n",
       "    </tr>\n",
       "    <tr>\n",
       "      <th>...</th>\n",
       "      <td>...</td>\n",
       "      <td>...</td>\n",
       "      <td>...</td>\n",
       "      <td>...</td>\n",
       "      <td>...</td>\n",
       "      <td>...</td>\n",
       "    </tr>\n",
       "    <tr>\n",
       "      <th>95</th>\n",
       "      <td>96</td>\n",
       "      <td>4 Da Gang</td>\n",
       "      <td>42 Dugg &amp; Roddy Ricch</td>\n",
       "      <td>100</td>\n",
       "      <td>67</td>\n",
       "      <td>4</td>\n",
       "    </tr>\n",
       "    <tr>\n",
       "      <th>96</th>\n",
       "      <td>97</td>\n",
       "      <td>Blame It On You</td>\n",
       "      <td>Jason Aldean</td>\n",
       "      <td>-</td>\n",
       "      <td>97</td>\n",
       "      <td>1</td>\n",
       "    </tr>\n",
       "    <tr>\n",
       "      <th>97</th>\n",
       "      <td>98</td>\n",
       "      <td>Wasted On You</td>\n",
       "      <td>Morgan Wallen</td>\n",
       "      <td>92</td>\n",
       "      <td>9</td>\n",
       "      <td>16</td>\n",
       "    </tr>\n",
       "    <tr>\n",
       "      <th>98</th>\n",
       "      <td>99</td>\n",
       "      <td>Way Less Sad</td>\n",
       "      <td>AJR</td>\n",
       "      <td>-</td>\n",
       "      <td>99</td>\n",
       "      <td>1</td>\n",
       "    </tr>\n",
       "    <tr>\n",
       "      <th>99</th>\n",
       "      <td>100</td>\n",
       "      <td>Clear Da Air</td>\n",
       "      <td>Moneybagg Yo</td>\n",
       "      <td>-</td>\n",
       "      <td>100</td>\n",
       "      <td>1</td>\n",
       "    </tr>\n",
       "  </tbody>\n",
       "</table>\n",
       "<p>100 rows × 6 columns</p>\n",
       "</div>"
      ],
      "text/plain": [
       "    rank                 song                                          artist  \\\n",
       "0      1      Save Your Tears                      The Weeknd & Ariana Grande   \n",
       "1      2  Leave The Door Open        Silk Sonic (Bruno Mars & Anderson .Paak)   \n",
       "2      3              Peaches  Justin Bieber Featuring Daniel Caesar & Giveon   \n",
       "3      4              Rapstar                                          Polo G   \n",
       "4      5           Levitating                       Dua Lipa Featuring DaBaby   \n",
       "..   ...                  ...                                             ...   \n",
       "95    96            4 Da Gang                           42 Dugg & Roddy Ricch   \n",
       "96    97      Blame It On You                                    Jason Aldean   \n",
       "97    98        Wasted On You                                   Morgan Wallen   \n",
       "98    99         Way Less Sad                                             AJR   \n",
       "99   100         Clear Da Air                                    Moneybagg Yo   \n",
       "\n",
       "   last_week_rank  peak_rank  weeks  \n",
       "0               6          1     20  \n",
       "1               2          1      8  \n",
       "2               3          1      6  \n",
       "3               1          1      3  \n",
       "4               5          5     30  \n",
       "..            ...        ...    ...  \n",
       "95            100         67      4  \n",
       "96              -         97      1  \n",
       "97             92          9     16  \n",
       "98              -         99      1  \n",
       "99              -        100      1  \n",
       "\n",
       "[100 rows x 6 columns]"
      ]
     },
     "execution_count": 3,
     "metadata": {},
     "output_type": "execute_result"
    }
   ],
   "source": [
    "chart"
   ]
  },
  {
   "cell_type": "code",
   "execution_count": 4,
   "id": "instructional-precipitation",
   "metadata": {},
   "outputs": [],
   "source": [
    "def first_input ():\n",
    "    inp = str(input(\"insert the name of a song: \")).strip()\n",
    "    while len(inp)<2:\n",
    "        inp = str(input(\"please write at least 2 characters as a name: \")).strip()\n",
    "    return inp"
   ]
  },
  {
   "cell_type": "code",
   "execution_count": 5,
   "id": "appropriate-daily",
   "metadata": {},
   "outputs": [
    {
     "name": "stdout",
     "output_type": "stream",
     "text": [
      "insert the name of a song: pd\n"
     ]
    },
    {
     "data": {
      "text/plain": [
       "'pd'"
      ]
     },
     "execution_count": 5,
     "metadata": {},
     "output_type": "execute_result"
    }
   ],
   "source": [
    "inp = first_input()\n",
    "\n",
    "inp"
   ]
  },
  {
   "cell_type": "code",
   "execution_count": 6,
   "id": "super-tsunami",
   "metadata": {},
   "outputs": [],
   "source": [
    "def searching_chart(inp):\n",
    "    \"\"\"\n",
    "    will return the index of the original chart in where the song is located, false if no matches. \n",
    "    \"\"\"\n",
    "    #We create a list of songs where the inputted string matches\n",
    "    matches = chart['song'].str.lower().str.find(inp.lower())\n",
    "    songs = [(chart['song'][i],chart['artist'][i],i) for i,x in enumerate(matches) if x >= 0]\n",
    "    \n",
    "    #If there is no matches whatsoever we return false, if any match, we ask to confirm \n",
    "    if len(songs) == 0:\n",
    "        return False\n",
    "    elif len(songs) == 1:    \n",
    "        print(\"\\ndo you mean this song?\")\n",
    "    else:\n",
    "        print(\"\\ndo you mean any of these?\")\n",
    "        \n",
    "    #displaying the options and ask for selection\n",
    "    for i,song in enumerate(songs):\n",
    "        print(str(i),\"-> \", song[0],\" | \",song[1])    \n",
    "    \n",
    "    sel = input(\"Choose song if yes, N if not: \").strip()\n",
    "    \n",
    "    #we use try/except to raise errors if the index is out of range, or if the input can't be converted to an int \n",
    "    while sel.lower() != \"n\":\n",
    "        try:\n",
    "            return songs[int(sel)][2]\n",
    "            break\n",
    "        except ValueError:\n",
    "            sel = input(\"Sorry, I didn't understand! Choose number if yes, N if not.\").strip()\n",
    "        except IndexError:\n",
    "            sel = input(\"Please choose one of the songs or write N if not: \").strip()\n",
    "    \n",
    "    return False \n",
    "        \n",
    "        \n",
    " \n",
    "    "
   ]
  },
  {
   "cell_type": "code",
   "execution_count": 7,
   "id": "looking-cedar",
   "metadata": {},
   "outputs": [
    {
     "data": {
      "text/plain": [
       "False"
      ]
     },
     "execution_count": 7,
     "metadata": {},
     "output_type": "execute_result"
    }
   ],
   "source": [
    "searching_chart(inp)"
   ]
  },
  {
   "cell_type": "code",
   "execution_count": 8,
   "id": "worth-negotiation",
   "metadata": {},
   "outputs": [],
   "source": [
    "def hot_songs():\n",
    "    \"\"\"\n",
    "    requires pandas\n",
    "    \"\"\"\n",
    "    chart = pd.read_csv(\"../data/top-100-songs-chart.csv\", index_col = 0)\n",
    "    \n",
    "    inp = first_input()\n",
    "    \n",
    "    song_ind = searching_chart(inp)\n",
    "    \n",
    "    if song_ind == False:\n",
    "        print(\"Sorry, we got no recommendation!\")\n",
    "    else:\n",
    "        recommendation = chart.drop(song_ind, axis = 0).sample()\n",
    "        song = recommendation['song'].iloc[0]\n",
    "        artist = recommendation['artist'].iloc[0]\n",
    "        print(\"\\nWe recommend you {} from {} \".format(song,artist))\n",
    "    \n",
    "    "
   ]
  },
  {
   "cell_type": "code",
   "execution_count": 9,
   "id": "amended-gamma",
   "metadata": {},
   "outputs": [
    {
     "name": "stdout",
     "output_type": "stream",
     "text": [
      "insert the name of a song: pa\n",
      "\n",
      "do you mean any of these?\n",
      "0 ->  No More Parties  |  Coi Leray Featuring Lil Durk\n",
      "1 ->  Telepatia  |  Kali Uchis\n",
      "2 ->  If Pain Was A Person  |  Moneybagg Yo\n",
      "Choose song if yes, N if not: 2\n",
      "\n",
      "We recommend you Beautiful Mistakes from Maroon 5 Featuring Megan Thee Stallion \n"
     ]
    }
   ],
   "source": [
    "hot_songs()"
   ]
  },
  {
   "cell_type": "code",
   "execution_count": null,
   "id": "white-litigation",
   "metadata": {},
   "outputs": [],
   "source": []
  }
 ],
 "metadata": {
  "kernelspec": {
   "display_name": "Python 3",
   "language": "python",
   "name": "python3"
  },
  "language_info": {
   "codemirror_mode": {
    "name": "ipython",
    "version": 3
   },
   "file_extension": ".py",
   "mimetype": "text/x-python",
   "name": "python",
   "nbconvert_exporter": "python",
   "pygments_lexer": "ipython3",
   "version": "3.9.2"
  }
 },
 "nbformat": 4,
 "nbformat_minor": 5
}
