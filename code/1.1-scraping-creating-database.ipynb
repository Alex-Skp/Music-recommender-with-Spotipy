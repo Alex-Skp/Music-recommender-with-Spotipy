{
 "cells": [
  {
   "cell_type": "markdown",
   "id": "color-gallery",
   "metadata": {},
   "source": [
    "![logo_ironhack_blue 7](https://user-images.githubusercontent.com/23629340/40541063-a07a0a8a-601a-11e8-91b5-2f13e4e6b441.png)\n",
    "\n",
    "# Lab | Web Scraping Single Page\n",
    "\n",
    "#### Instructions - Scraping popular songs\n",
    "\n",
    "Your product will take a song as an input from the user and will output another song (the recommendation). In most cases, the recommended song will have to be similar to the inputted song, but the CTO thinks that if the song is on the top charts at the moment, the user will enjoy more a recommendation of a song that's also popular at the moment.\n",
    "\n",
    "You have find data on the internet about currently popular songs. Billboard maintains a weekly Top 100 of \"hot\" songs here: [https://www.billboard.com/charts/hot-100](https://www.billboard.com/charts/hot-100).\n",
    "\n",
    "It's a good place to start! Scrape the current top 100 songs and their respective artists, and put the information into a pandas dataframe."
   ]
  },
  {
   "cell_type": "markdown",
   "id": "accurate-round",
   "metadata": {},
   "source": [
    "We first import BeautifulSoup for the scraping, and requests to connect to the page we want to scrape data from"
   ]
  },
  {
   "cell_type": "code",
   "execution_count": 1,
   "id": "becoming-rescue",
   "metadata": {},
   "outputs": [],
   "source": [
    "from bs4 import BeautifulSoup\n",
    "import requests\n",
    "import pandas as pd"
   ]
  },
  {
   "cell_type": "markdown",
   "id": "selected-married",
   "metadata": {},
   "source": [
    "We then set the url of the page we want to take the information from and check connection status"
   ]
  },
  {
   "cell_type": "code",
   "execution_count": 2,
   "id": "limited-kazakhstan",
   "metadata": {},
   "outputs": [
    {
     "data": {
      "text/plain": [
       "200"
      ]
     },
     "execution_count": 2,
     "metadata": {},
     "output_type": "execute_result"
    }
   ],
   "source": [
    "url = \"https://www.billboard.com/charts/hot-100\"\n",
    "response = requests.get(url)\n",
    "response.status_code"
   ]
  },
  {
   "cell_type": "markdown",
   "id": "available-inspiration",
   "metadata": {},
   "source": [
    "Set the parser"
   ]
  },
  {
   "cell_type": "code",
   "execution_count": 3,
   "id": "mexican-survivor",
   "metadata": {},
   "outputs": [],
   "source": [
    "soup = BeautifulSoup(response.content,'html.parser')"
   ]
  },
  {
   "cell_type": "markdown",
   "id": "sapphire-strike",
   "metadata": {},
   "source": [
    "we try to find the information in the page code. Each entry in the rank is wrapped in a button. here is the first entry: \n"
   ]
  },
  {
   "cell_type": "code",
   "execution_count": 4,
   "id": "cleared-carnival",
   "metadata": {},
   "outputs": [
    {
     "data": {
      "text/plain": [
       "<button class=\"chart-element__wrapper display--flex flex--grow sort--default\">\n",
       "<span class=\"chart-element__rank flex--column flex--xy-center flex--no-shrink\">\n",
       "<span class=\"chart-element__rank__number\">1</span>\n",
       "<span class=\"chart-element__trend chart-element__trend--rising color--up\"><i class=\"fa fa-arrow-up\"><span class=\"sr--only\">Rising</span></i></span>\n",
       "</span>\n",
       "<span class=\"chart-element__information\">\n",
       "<span class=\"chart-element__information__song text--truncate color--primary\">Save Your Tears</span>\n",
       "<span class=\"chart-element__information__artist text--truncate color--secondary\">The Weeknd &amp; Ariana Grande</span>\n",
       "<span class=\"chart-element__information__delta color--secondary\">\n",
       "<span class=\"chart-element__information__delta__text text--default\">+5</span>\n",
       "<span class=\"chart-element__information__delta__text text--last\">6 Last Week</span>\n",
       "<span class=\"chart-element__information__delta__text text--peak\">1 Peak Rank</span>\n",
       "<span class=\"chart-element__information__delta__text text--week\">20 Weeks on Chart</span>\n",
       "</span>\n",
       "</span>\n",
       "<span class=\"chart-element__metas display--flex flex--y-center\">\n",
       "<span class=\"chart-element__meta text--center color--secondary text--last\">6</span>\n",
       "<span class=\"chart-element__meta text--center color--secondary text--peak\">1</span>\n",
       "<span class=\"chart-element__meta text--center color--secondary text--week\">20</span>\n",
       "</span>\n",
       "<span class=\"chart-element__image flex--no-shrink\" style=\"background-image: url('https://charts-static.billboard.com/img/2020/04/the-weeknd-uyi-save-your-tears-io5-53x53.jpg');\"></span>\n",
       "</button>"
      ]
     },
     "execution_count": 4,
     "metadata": {},
     "output_type": "execute_result"
    }
   ],
   "source": [
    "soup.select(\"button.chart-element__wrapper \")[0]"
   ]
  },
  {
   "cell_type": "markdown",
   "id": "frequent-tucson",
   "metadata": {},
   "source": [
    "and from here we have to extract each of the data points:"
   ]
  },
  {
   "cell_type": "code",
   "execution_count": 5,
   "id": "material-grass",
   "metadata": {},
   "outputs": [
    {
     "data": {
      "text/plain": [
       "'Save Your Tears'"
      ]
     },
     "execution_count": 5,
     "metadata": {},
     "output_type": "execute_result"
    }
   ],
   "source": [
    "# song name \n",
    "soup.select(\"span.chart-element__information span.chart-element__information__song\")[0].text"
   ]
  },
  {
   "cell_type": "code",
   "execution_count": 6,
   "id": "mysterious-banking",
   "metadata": {},
   "outputs": [
    {
     "data": {
      "text/plain": [
       "'The Weeknd & Ariana Grande'"
      ]
     },
     "execution_count": 6,
     "metadata": {},
     "output_type": "execute_result"
    }
   ],
   "source": [
    "# artist name \n",
    "soup.select(\"span.chart-element__information span.chart-element__information__artist\")[0].text"
   ]
  },
  {
   "cell_type": "code",
   "execution_count": 7,
   "id": "alleged-springfield",
   "metadata": {},
   "outputs": [
    {
     "data": {
      "text/plain": [
       "'1'"
      ]
     },
     "execution_count": 7,
     "metadata": {},
     "output_type": "execute_result"
    }
   ],
   "source": [
    "#rank\n",
    "soup.select(\"span.chart-element__rank__number\")[0].text"
   ]
  },
  {
   "cell_type": "code",
   "execution_count": 8,
   "id": "completed-sunglasses",
   "metadata": {},
   "outputs": [
    {
     "data": {
      "text/plain": [
       "'6'"
      ]
     },
     "execution_count": 8,
     "metadata": {},
     "output_type": "execute_result"
    }
   ],
   "source": [
    "#last week rank \n",
    "soup.select(\"button.chart-element__wrapper \")[0].select(\"span.chart-element__metas span.chart-element__meta\")[0].text"
   ]
  },
  {
   "cell_type": "code",
   "execution_count": 9,
   "id": "fifteen-calgary",
   "metadata": {},
   "outputs": [
    {
     "data": {
      "text/plain": [
       "'1'"
      ]
     },
     "execution_count": 9,
     "metadata": {},
     "output_type": "execute_result"
    }
   ],
   "source": [
    "#peak rank \n",
    "soup.select(\"button.chart-element__wrapper \")[0].select(\"span.chart-element__metas span.chart-element__meta\")[1].text"
   ]
  },
  {
   "cell_type": "code",
   "execution_count": 10,
   "id": "organizational-fishing",
   "metadata": {},
   "outputs": [
    {
     "data": {
      "text/plain": [
       "'20'"
      ]
     },
     "execution_count": 10,
     "metadata": {},
     "output_type": "execute_result"
    }
   ],
   "source": [
    "#weeks on chart \n",
    "soup.select(\"button.chart-element__wrapper \")[0].select(\"span.chart-element__metas span.chart-element__meta\")[2].text"
   ]
  },
  {
   "cell_type": "markdown",
   "id": "chubby-argument",
   "metadata": {},
   "source": [
    "We'll use tqdm to check the progress of the page read "
   ]
  },
  {
   "cell_type": "code",
   "execution_count": 11,
   "id": "activated-pound",
   "metadata": {},
   "outputs": [],
   "source": [
    "from tqdm.notebook import tqdm"
   ]
  },
  {
   "cell_type": "code",
   "execution_count": 12,
   "id": "amino-click",
   "metadata": {},
   "outputs": [
    {
     "data": {
      "application/vnd.jupyter.widget-view+json": {
       "model_id": "0e149968a6eb45fcacd33a81e33c50f6",
       "version_major": 2,
       "version_minor": 0
      },
      "text/plain": [
       "  0%|          | 0/100 [00:00<?, ?it/s]"
      ]
     },
     "metadata": {},
     "output_type": "display_data"
    }
   ],
   "source": [
    "rank = []\n",
    "song = []\n",
    "artist = []\n",
    "last_week = []\n",
    "peak = []\n",
    "weeks = []\n",
    "\n",
    "for i in tqdm(range(len(soup.select(\"span.chart-element__rank__number\")))):\n",
    "    rank.append(soup.select(\"span.chart-element__rank__number\")[i].text)\n",
    "    song.append(soup.select(\"span.chart-element__information span.chart-element__information__song\")[i].text)\n",
    "    artist.append(soup.select(\"span.chart-element__information span.chart-element__information__artist\")[i].text)\n",
    "    last_week.append(soup.select(\"button.chart-element__wrapper \")[i].select(\"span.chart-element__metas span.chart-element__meta\")[0].text) \n",
    "    peak.append(soup.select(\"button.chart-element__wrapper \")[i].select(\"span.chart-element__metas span.chart-element__meta\")[1].text)\n",
    "    weeks.append(soup.select(\"button.chart-element__wrapper \")[i].select(\"span.chart-element__metas span.chart-element__meta\")[2].text)"
   ]
  },
  {
   "cell_type": "markdown",
   "id": "alleged-pound",
   "metadata": {},
   "source": [
    "and create a dataframe with the information"
   ]
  },
  {
   "cell_type": "code",
   "execution_count": 13,
   "id": "brilliant-albania",
   "metadata": {},
   "outputs": [],
   "source": [
    "chart = pd.DataFrame({'rank':rank,\n",
    "                      'song':song,\n",
    "                      'artist':artist,\n",
    "                      'last_week_rank':last_week,\n",
    "                      'peak_rank':peak,\n",
    "                      'weeks':weeks\n",
    "})"
   ]
  },
  {
   "cell_type": "code",
   "execution_count": 14,
   "id": "experimental-pharmacology",
   "metadata": {},
   "outputs": [
    {
     "data": {
      "text/html": [
       "<div>\n",
       "<style scoped>\n",
       "    .dataframe tbody tr th:only-of-type {\n",
       "        vertical-align: middle;\n",
       "    }\n",
       "\n",
       "    .dataframe tbody tr th {\n",
       "        vertical-align: top;\n",
       "    }\n",
       "\n",
       "    .dataframe thead th {\n",
       "        text-align: right;\n",
       "    }\n",
       "</style>\n",
       "<table border=\"1\" class=\"dataframe\">\n",
       "  <thead>\n",
       "    <tr style=\"text-align: right;\">\n",
       "      <th></th>\n",
       "      <th>rank</th>\n",
       "      <th>song</th>\n",
       "      <th>artist</th>\n",
       "      <th>last_week_rank</th>\n",
       "      <th>peak_rank</th>\n",
       "      <th>weeks</th>\n",
       "    </tr>\n",
       "  </thead>\n",
       "  <tbody>\n",
       "    <tr>\n",
       "      <th>0</th>\n",
       "      <td>1</td>\n",
       "      <td>Save Your Tears</td>\n",
       "      <td>The Weeknd &amp; Ariana Grande</td>\n",
       "      <td>6</td>\n",
       "      <td>1</td>\n",
       "      <td>20</td>\n",
       "    </tr>\n",
       "    <tr>\n",
       "      <th>1</th>\n",
       "      <td>2</td>\n",
       "      <td>Leave The Door Open</td>\n",
       "      <td>Silk Sonic (Bruno Mars &amp; Anderson .Paak)</td>\n",
       "      <td>2</td>\n",
       "      <td>1</td>\n",
       "      <td>8</td>\n",
       "    </tr>\n",
       "    <tr>\n",
       "      <th>2</th>\n",
       "      <td>3</td>\n",
       "      <td>Peaches</td>\n",
       "      <td>Justin Bieber Featuring Daniel Caesar &amp; Giveon</td>\n",
       "      <td>3</td>\n",
       "      <td>1</td>\n",
       "      <td>6</td>\n",
       "    </tr>\n",
       "    <tr>\n",
       "      <th>3</th>\n",
       "      <td>4</td>\n",
       "      <td>Rapstar</td>\n",
       "      <td>Polo G</td>\n",
       "      <td>1</td>\n",
       "      <td>1</td>\n",
       "      <td>3</td>\n",
       "    </tr>\n",
       "    <tr>\n",
       "      <th>4</th>\n",
       "      <td>5</td>\n",
       "      <td>Levitating</td>\n",
       "      <td>Dua Lipa Featuring DaBaby</td>\n",
       "      <td>5</td>\n",
       "      <td>5</td>\n",
       "      <td>30</td>\n",
       "    </tr>\n",
       "    <tr>\n",
       "      <th>...</th>\n",
       "      <td>...</td>\n",
       "      <td>...</td>\n",
       "      <td>...</td>\n",
       "      <td>...</td>\n",
       "      <td>...</td>\n",
       "      <td>...</td>\n",
       "    </tr>\n",
       "    <tr>\n",
       "      <th>95</th>\n",
       "      <td>96</td>\n",
       "      <td>4 Da Gang</td>\n",
       "      <td>42 Dugg &amp; Roddy Ricch</td>\n",
       "      <td>100</td>\n",
       "      <td>67</td>\n",
       "      <td>4</td>\n",
       "    </tr>\n",
       "    <tr>\n",
       "      <th>96</th>\n",
       "      <td>97</td>\n",
       "      <td>Blame It On You</td>\n",
       "      <td>Jason Aldean</td>\n",
       "      <td>-</td>\n",
       "      <td>97</td>\n",
       "      <td>1</td>\n",
       "    </tr>\n",
       "    <tr>\n",
       "      <th>97</th>\n",
       "      <td>98</td>\n",
       "      <td>Wasted On You</td>\n",
       "      <td>Morgan Wallen</td>\n",
       "      <td>92</td>\n",
       "      <td>9</td>\n",
       "      <td>16</td>\n",
       "    </tr>\n",
       "    <tr>\n",
       "      <th>98</th>\n",
       "      <td>99</td>\n",
       "      <td>Way Less Sad</td>\n",
       "      <td>AJR</td>\n",
       "      <td>-</td>\n",
       "      <td>99</td>\n",
       "      <td>1</td>\n",
       "    </tr>\n",
       "    <tr>\n",
       "      <th>99</th>\n",
       "      <td>100</td>\n",
       "      <td>Clear Da Air</td>\n",
       "      <td>Moneybagg Yo</td>\n",
       "      <td>-</td>\n",
       "      <td>100</td>\n",
       "      <td>1</td>\n",
       "    </tr>\n",
       "  </tbody>\n",
       "</table>\n",
       "<p>100 rows × 6 columns</p>\n",
       "</div>"
      ],
      "text/plain": [
       "   rank                 song                                          artist  \\\n",
       "0     1      Save Your Tears                      The Weeknd & Ariana Grande   \n",
       "1     2  Leave The Door Open        Silk Sonic (Bruno Mars & Anderson .Paak)   \n",
       "2     3              Peaches  Justin Bieber Featuring Daniel Caesar & Giveon   \n",
       "3     4              Rapstar                                          Polo G   \n",
       "4     5           Levitating                       Dua Lipa Featuring DaBaby   \n",
       "..  ...                  ...                                             ...   \n",
       "95   96            4 Da Gang                           42 Dugg & Roddy Ricch   \n",
       "96   97      Blame It On You                                    Jason Aldean   \n",
       "97   98        Wasted On You                                   Morgan Wallen   \n",
       "98   99         Way Less Sad                                             AJR   \n",
       "99  100         Clear Da Air                                    Moneybagg Yo   \n",
       "\n",
       "   last_week_rank peak_rank weeks  \n",
       "0               6         1    20  \n",
       "1               2         1     8  \n",
       "2               3         1     6  \n",
       "3               1         1     3  \n",
       "4               5         5    30  \n",
       "..            ...       ...   ...  \n",
       "95            100        67     4  \n",
       "96              -        97     1  \n",
       "97             92         9    16  \n",
       "98              -        99     1  \n",
       "99              -       100     1  \n",
       "\n",
       "[100 rows x 6 columns]"
      ]
     },
     "execution_count": 14,
     "metadata": {},
     "output_type": "execute_result"
    }
   ],
   "source": [
    "chart"
   ]
  },
  {
   "cell_type": "markdown",
   "id": "defensive-milwaukee",
   "metadata": {},
   "source": [
    "In the end we'll save the dataframe as a csv"
   ]
  },
  {
   "cell_type": "code",
   "execution_count": 16,
   "id": "standing-spokesman",
   "metadata": {},
   "outputs": [],
   "source": [
    "chart.to_csv(\"../data/top-100-songs-chart.csv\")"
   ]
  },
  {
   "cell_type": "code",
   "execution_count": null,
   "id": "played-korea",
   "metadata": {},
   "outputs": [],
   "source": []
  }
 ],
 "metadata": {
  "kernelspec": {
   "display_name": "Python 3",
   "language": "python",
   "name": "python3"
  },
  "language_info": {
   "codemirror_mode": {
    "name": "ipython",
    "version": 3
   },
   "file_extension": ".py",
   "mimetype": "text/x-python",
   "name": "python",
   "nbconvert_exporter": "python",
   "pygments_lexer": "ipython3",
   "version": "3.9.2"
  }
 },
 "nbformat": 4,
 "nbformat_minor": 5
}
